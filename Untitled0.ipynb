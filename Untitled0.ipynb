{
  "nbformat": 4,
  "nbformat_minor": 0,
  "metadata": {
    "colab": {
      "provenance": [],
      "authorship_tag": "ABX9TyNnCXP/5h559s1BHCYUrcZF",
      "include_colab_link": true
    },
    "kernelspec": {
      "name": "python3",
      "display_name": "Python 3"
    },
    "language_info": {
      "name": "python"
    }
  },
  "cells": [
    {
      "cell_type": "markdown",
      "metadata": {
        "id": "view-in-github",
        "colab_type": "text"
      },
      "source": [
        "<a href=\"https://colab.research.google.com/github/PollySA21/PollySA21/blob/main/Untitled0.ipynb\" target=\"_parent\"><img src=\"https://colab.research.google.com/assets/colab-badge.svg\" alt=\"Open In Colab\"/></a>"
      ]
    },
    {
      "cell_type": "code",
      "execution_count": 1,
      "metadata": {
        "colab": {
          "base_uri": "https://localhost:8080/"
        },
        "id": "wOLnq6KXVCfp",
        "outputId": "a45e1a48-2fb0-4020-ff96-85f3c27e00c0"
      },
      "outputs": [
        {
          "output_type": "stream",
          "name": "stdout",
          "text": [
            "Downloading data from https://storage.googleapis.com/keras-applications/efficientnetb0.h5\n",
            "21834768/21834768 [==============================] - 0s 0us/step\n",
            "1/1 [==============================] - 2s 2s/step\n",
            "Downloading data from https://storage.googleapis.com/download.tensorflow.org/data/imagenet_class_index.json\n",
            "35363/35363 [==============================] - 0s 0us/step\n",
            "airliner 0.50614464\n",
            "wing 0.080018856\n",
            "warplane 0.045610074\n"
          ]
        }
      ],
      "source": [
        "from tensorflow.keras.applications import EfficientNetB0\n",
        "from tensorflow.keras.preprocessing import image\n",
        "from tensorflow.keras.applications.efficientnet import preprocess_input\n",
        "from tensorflow.keras.applications.efficientnet import decode_predictions\n",
        "import numpy as np\n",
        "\n",
        "# Загружаем предварительно обученную модель EfficientNetB0\n",
        "model = EfficientNetB0(weights='imagenet')\n",
        "\n",
        "# Прописываем путь к файлу с изображением\n",
        "img_path = 'plane.jpg'\n",
        "# Загружаем изображение в память\n",
        "# EfficientNetB0 рассчитана на изображения размером 224х224\n",
        "img = image.load_img(img_path, target_size=(224, 224))\n",
        "# Выполняем предварительную обработку изображения\n",
        "x = image.img_to_array(img)\n",
        "x = np.expand_dims(x, axis=0)\n",
        "x = preprocess_input(x)\n",
        "# Запускаем распознавание\n",
        "preds = model.predict(x)\n",
        "# Печатаем ТОП-3 класса с самой большой вероятностью\n",
        "classes = decode_predictions(preds, top=3)[0]\n",
        "for cl in classes:\n",
        "    print(cl[1], cl[2])\n"
      ]
    }
  ]
}